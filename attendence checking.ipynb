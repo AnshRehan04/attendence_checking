{
 "cells": [
  {
   "cell_type": "code",
   "execution_count": null,
   "id": "95b1b80f",
   "metadata": {},
   "outputs": [],
   "source": [
    "no_of_classes_held=int(input(\"Enter number of classes held :\"))\n",
    "no_of_classes_attended=int(input(\"Enter number of classes attended :\"))\n",
    "c=float((no_of_classes_attended/no_of_classes_held)*100)\n",
    "print(c)\n",
    "if c<=75:\n",
    "    print(\"not give exam\")\n",
    "elif c>=75:\n",
    "    print(\"can give exam\")"
   ]
  }
 ],
 "metadata": {
  "kernelspec": {
   "display_name": "Python 3 (ipykernel)",
   "language": "python",
   "name": "python3"
  },
  "language_info": {
   "codemirror_mode": {
    "name": "ipython",
    "version": 3
   },
   "file_extension": ".py",
   "mimetype": "text/x-python",
   "name": "python",
   "nbconvert_exporter": "python",
   "pygments_lexer": "ipython3",
   "version": "3.9.12"
  }
 },
 "nbformat": 4,
 "nbformat_minor": 5
}
